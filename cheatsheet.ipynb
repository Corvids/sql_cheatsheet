{
 "cells": [
  {
   "cell_type": "markdown",
   "metadata": {},
   "source": [
    "** Basic SELECT statement **"
   ]
  },
  {
   "cell_type": "markdown",
   "metadata": {},
   "source": [
    "```sql\n",
    "SELECT *\n",
    "FROM [TABLE]\n",
    "```"
   ]
  },
  {
   "cell_type": "markdown",
   "metadata": {},
   "source": [
    "** Not-so-basic SELECT statement **"
   ]
  },
  {
   "cell_type": "markdown",
   "metadata": {},
   "source": [
    "```sql\n",
    "SELECT [var1], count(*)\n",
    "FROM [TABLE]\n",
    "WHERE [var1] = some_condition\n",
    "GROUP BY [var1]\n",
    "HAVING ( count([var1]) > 1 )\n",
    "ORDER BY [var1]\n",
    "```"
   ]
  },
  {
   "cell_type": "markdown",
   "metadata": {},
   "source": [
    "** Change a column name **"
   ]
  },
  {
   "cell_type": "markdown",
   "metadata": {},
   "source": [
    "```sql\n",
    "EXEC sp_rename '[TABLE].old_name', 'new_name';\n",
    "GO\n",
    "```"
   ]
  },
  {
   "cell_type": "markdown",
   "metadata": {},
   "source": [
    "** Delete from a table **"
   ]
  },
  {
   "cell_type": "markdown",
   "metadata": {},
   "source": [
    "```sql\n",
    "DELETE FROM [TABLE] WHERE [var1] = some_condition\n",
    "```"
   ]
  },
  {
   "cell_type": "markdown",
   "metadata": {},
   "source": [
    "** Insert into a table **"
   ]
  },
  {
   "cell_type": "markdown",
   "metadata": {},
   "source": [
    "```sql\n",
    "INSERT INTO [TABLE2] (table2_var1, table2_var2)\n",
    "SELECT table1_var1, table1_var2\n",
    "FROM [TABLE1]\n",
    "```"
   ]
  },
  {
   "cell_type": "markdown",
   "metadata": {},
   "source": [
    "** Update multiple columns in a table **"
   ]
  },
  {
   "cell_type": "markdown",
   "metadata": {},
   "source": [
    "```sql\n",
    "UPDATE [TABLE]\n",
    "SET [var1] = new_value_1,\n",
    "    [var2] = new_value_2\n",
    "WHERE var_1 = some_condition\n",
    "```"
   ]
  },
  {
   "cell_type": "markdown",
   "metadata": {},
   "source": [
    "** Add a column to a table and set to NULL **\n",
    "\n",
    "NOTE: _varchar(255)_ indicates the data type.  For common data types, see the table below:\n",
    "\n",
    "| common data-types      | SQL notation  | \n",
    "| ---------------------- |:-------------:|\n",
    "| string/character       | varchar(n)    |\n",
    "| integer                | int           |\n",
    "| large integers         | bigint        |\n",
    "| decimal                | decimal       |\n",
    "| money                  | money         |"
   ]
  },
  {
   "cell_type": "markdown",
   "metadata": {},
   "source": [
    "```sql\n",
    "ALTER TABLE [TABLE]\n",
    "ADD new_var varchar(255)\n",
    "go\n",
    "\n",
    "UPDATE [TABLE]\n",
    "SET new_var = NULL\n",
    "```"
   ]
  },
  {
   "cell_type": "markdown",
   "metadata": {},
   "source": [
    "#### Remove whitespace"
   ]
  },
  {
   "cell_type": "markdown",
   "metadata": {},
   "source": [
    "```sql\n",
    "UPDATE [TABLE]\n",
    "SET var1 = ltrim(rtrim(var1))\n",
    "```"
   ]
  },
  {
   "cell_type": "markdown",
   "metadata": {},
   "source": [
    "#### Split Names"
   ]
  },
  {
   "cell_type": "markdown",
   "metadata": {},
   "source": [
    "```sql\n",
    "SELECT SUBSTRING(name, 1, CHARINDEX(',', name) - 1) as name1,\n",
    "    SUBSTRING(name, CHARINDEX(',', name) + 1, 255) as name2\n",
    "FROM [TABLE]\n",
    "WHERE name like '%,%'\n",
    "```"
   ]
  },
  {
   "cell_type": "markdown",
   "metadata": {},
   "source": [
    "```sql\n",
    "UPDATE [TABLE]\n",
    "SET name1 = SUBSTRING(name, 1, CHARINDEX(',', name) - 1),\n",
    "\tname2 = SUBSTRING(name, CHARINDEX(',', name) + 1, 255)\n",
    "WHERE  name like '%,%'\n",
    "go\n",
    "```"
   ]
  },
  {
   "cell_type": "markdown",
   "metadata": {},
   "source": [
    "#### Replace"
   ]
  },
  {
   "cell_type": "markdown",
   "metadata": {},
   "source": [
    "```sql\n",
    "UPDATE [TABLE1]\n",
    "SET var1 = replace(var1, 'hello', 'goodbye')\n",
    "WHERE var1 <> 'there'\n",
    "```"
   ]
  }
 ],
 "metadata": {
  "kernelspec": {
   "display_name": "Python 2",
   "language": "python",
   "name": "python2"
  },
  "language_info": {
   "codemirror_mode": {
    "name": "ipython",
    "version": 2
   },
   "file_extension": ".py",
   "mimetype": "text/x-python",
   "name": "python",
   "nbconvert_exporter": "python",
   "pygments_lexer": "ipython2",
   "version": "2.7.11"
  }
 },
 "nbformat": 4,
 "nbformat_minor": 0
}
